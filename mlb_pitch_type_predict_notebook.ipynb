{
  "nbformat": 4,
  "nbformat_minor": 0,
  "metadata": {
    "kernelspec": {
      "display_name": "Python 3",
      "language": "python",
      "name": "python3"
    },
    "language_info": {
      "codemirror_mode": {
        "name": "ipython",
        "version": 3
      },
      "file_extension": ".py",
      "mimetype": "text/x-python",
      "name": "python",
      "nbconvert_exporter": "python",
      "pygments_lexer": "ipython3",
      "version": "3.7.6"
    },
    "colab": {
      "name": "mlb_pitch_type_predict_notebook.ipynb",
      "provenance": [],
      "collapsed_sections": [],
      "toc_visible": true,
      "include_colab_link": true
    }
  },
  "cells": [
    {
      "cell_type": "markdown",
      "metadata": {
        "id": "view-in-github",
        "colab_type": "text"
      },
      "source": [
        "<a href=\"https://colab.research.google.com/github/npzz/collab/blob/master/mlb_pitch_type_predict_notebook.ipynb\" target=\"_parent\"><img src=\"https://colab.research.google.com/assets/colab-badge.svg\" alt=\"Open In Colab\"/></a>"
      ]
    },
    {
      "cell_type": "code",
      "metadata": {
        "id": "OBY7MvR1UoIg"
      },
      "source": [
        "import os\n",
        "import pandas as pd\n",
        "import numpy as np\n",
        "import seaborn as sns\n",
        "import matplotlib.pyplot as plt\n",
        "from sklearn.preprocessing import LabelEncoder\n",
        "from sklearn.linear_model import LogisticRegression\n",
        "from sklearn.model_selection import train_test_split\n",
        "from sklearn import metrics\n",
        "from sklearn.metrics import confusion_matrix\n",
        "from sklearn.metrics import classification_report\n",
        "from sklearn.metrics import plot_confusion_matrix"
      ],
      "execution_count": null,
      "outputs": []
    },
    {
      "cell_type": "markdown",
      "metadata": {
        "id": "z1gdIdrJUoIk"
      },
      "source": [
        "data volume is high. evalating yearly distribution that can be dervied from first characters from ab_id. converting ab_id to integer as it incorrectly read as float "
      ]
    },
    {
      "cell_type": "markdown",
      "metadata": {
        "id": "tJgeJjtRUoIk"
      },
      "source": [
        "## 2019 data"
      ]
    },
    {
      "cell_type": "markdown",
      "metadata": {
        "id": "9wteXpheUoIk"
      },
      "source": [
        "#### Motivation \n",
        "Aim of section of the project is to predict what type of pitch will be coming next based on various metrics from previous pitch. As there are many measured metrics associated to pitch from velocity of pitch to handedness of pitcher, there will be feature selection also implemented to reduce number of dimension to important set."
      ]
    },
    {
      "cell_type": "code",
      "metadata": {
        "id": "WNgLq5CpUoIk"
      },
      "source": [
        "# using 2019 data\n",
        "p19_master = pd.read_csv(\"/content/2019_pitches.csv\")\n",
        "ab19_master = pd.read_csv(\"/content/2019_atbats.csv\")"
      ],
      "execution_count": null,
      "outputs": []
    },
    {
      "cell_type": "code",
      "metadata": {
        "id": "WlaZwh0LUoIl"
      },
      "source": [
        "# making a working copy\n",
        "p19 = p19_master\n",
        "ab19 = ab19_master"
      ],
      "execution_count": null,
      "outputs": []
    },
    {
      "cell_type": "code",
      "metadata": {
        "colab": {
          "base_uri": "https://localhost:8080/",
          "height": 224
        },
        "id": "u3mhlPHMUoIl",
        "outputId": "506d5e5d-96dd-473e-9420-657ce2c4a29f"
      },
      "source": [
        "p19_master.head()"
      ],
      "execution_count": null,
      "outputs": [
        {
          "output_type": "execute_result",
          "data": {
            "text/html": [
              "<div>\n",
              "<style scoped>\n",
              "    .dataframe tbody tr th:only-of-type {\n",
              "        vertical-align: middle;\n",
              "    }\n",
              "\n",
              "    .dataframe tbody tr th {\n",
              "        vertical-align: top;\n",
              "    }\n",
              "\n",
              "    .dataframe thead th {\n",
              "        text-align: right;\n",
              "    }\n",
              "</style>\n",
              "<table border=\"1\" class=\"dataframe\">\n",
              "  <thead>\n",
              "    <tr style=\"text-align: right;\">\n",
              "      <th></th>\n",
              "      <th>px</th>\n",
              "      <th>pz</th>\n",
              "      <th>start_speed</th>\n",
              "      <th>end_speed</th>\n",
              "      <th>spin_rate</th>\n",
              "      <th>spin_dir</th>\n",
              "      <th>break_angle</th>\n",
              "      <th>break_length</th>\n",
              "      <th>break_y</th>\n",
              "      <th>ax</th>\n",
              "      <th>ay</th>\n",
              "      <th>az</th>\n",
              "      <th>sz_bot</th>\n",
              "      <th>sz_top</th>\n",
              "      <th>type_confidence</th>\n",
              "      <th>vx0</th>\n",
              "      <th>vy0</th>\n",
              "      <th>vz0</th>\n",
              "      <th>x</th>\n",
              "      <th>x0</th>\n",
              "      <th>y</th>\n",
              "      <th>y0</th>\n",
              "      <th>z0</th>\n",
              "      <th>pfx_x</th>\n",
              "      <th>pfx_z</th>\n",
              "      <th>nasty</th>\n",
              "      <th>zone</th>\n",
              "      <th>code</th>\n",
              "      <th>type</th>\n",
              "      <th>pitch_type</th>\n",
              "      <th>event_num</th>\n",
              "      <th>b_score</th>\n",
              "      <th>ab_id</th>\n",
              "      <th>b_count</th>\n",
              "      <th>s_count</th>\n",
              "      <th>outs</th>\n",
              "      <th>pitch_num</th>\n",
              "      <th>on_1b</th>\n",
              "      <th>on_2b</th>\n",
              "      <th>on_3b</th>\n",
              "    </tr>\n",
              "  </thead>\n",
              "  <tbody>\n",
              "    <tr>\n",
              "      <th>0</th>\n",
              "      <td>0.00</td>\n",
              "      <td>2.15</td>\n",
              "      <td>88.8</td>\n",
              "      <td>80.7</td>\n",
              "      <td>placeholder</td>\n",
              "      <td>placeholder</td>\n",
              "      <td>22.8</td>\n",
              "      <td>4.8</td>\n",
              "      <td>24.0</td>\n",
              "      <td>-8.47</td>\n",
              "      <td>28.90</td>\n",
              "      <td>-15.51</td>\n",
              "      <td>1.70</td>\n",
              "      <td>3.36</td>\n",
              "      <td>placeholder</td>\n",
              "      <td>5.28</td>\n",
              "      <td>-128.95</td>\n",
              "      <td>-6.89</td>\n",
              "      <td>116.97</td>\n",
              "      <td>-1.42</td>\n",
              "      <td>180.81</td>\n",
              "      <td>50.0</td>\n",
              "      <td>6.07</td>\n",
              "      <td>-5.07</td>\n",
              "      <td>9.98</td>\n",
              "      <td>NaN</td>\n",
              "      <td>placeholder</td>\n",
              "      <td>X</td>\n",
              "      <td>X</td>\n",
              "      <td>FF</td>\n",
              "      <td>5</td>\n",
              "      <td>0.0</td>\n",
              "      <td>2.019000e+09</td>\n",
              "      <td>0.0</td>\n",
              "      <td>0.0</td>\n",
              "      <td>0.0</td>\n",
              "      <td>1.0</td>\n",
              "      <td>0.0</td>\n",
              "      <td>0.0</td>\n",
              "      <td>0.0</td>\n",
              "    </tr>\n",
              "    <tr>\n",
              "      <th>1</th>\n",
              "      <td>0.34</td>\n",
              "      <td>2.31</td>\n",
              "      <td>89.9</td>\n",
              "      <td>81.8</td>\n",
              "      <td>placeholder</td>\n",
              "      <td>placeholder</td>\n",
              "      <td>22.8</td>\n",
              "      <td>3.6</td>\n",
              "      <td>24.0</td>\n",
              "      <td>-7.10</td>\n",
              "      <td>28.85</td>\n",
              "      <td>-12.99</td>\n",
              "      <td>1.80</td>\n",
              "      <td>3.55</td>\n",
              "      <td>placeholder</td>\n",
              "      <td>4.89</td>\n",
              "      <td>-130.54</td>\n",
              "      <td>-7.48</td>\n",
              "      <td>103.93</td>\n",
              "      <td>-1.02</td>\n",
              "      <td>176.34</td>\n",
              "      <td>50.0</td>\n",
              "      <td>6.20</td>\n",
              "      <td>-4.14</td>\n",
              "      <td>11.18</td>\n",
              "      <td>NaN</td>\n",
              "      <td>placeholder</td>\n",
              "      <td>C</td>\n",
              "      <td>C</td>\n",
              "      <td>FF</td>\n",
              "      <td>8</td>\n",
              "      <td>0.0</td>\n",
              "      <td>2.019000e+09</td>\n",
              "      <td>0.0</td>\n",
              "      <td>0.0</td>\n",
              "      <td>1.0</td>\n",
              "      <td>1.0</td>\n",
              "      <td>0.0</td>\n",
              "      <td>0.0</td>\n",
              "      <td>0.0</td>\n",
              "    </tr>\n",
              "    <tr>\n",
              "      <th>2</th>\n",
              "      <td>-0.05</td>\n",
              "      <td>2.03</td>\n",
              "      <td>85.7</td>\n",
              "      <td>79.6</td>\n",
              "      <td>placeholder</td>\n",
              "      <td>placeholder</td>\n",
              "      <td>9.6</td>\n",
              "      <td>6.0</td>\n",
              "      <td>24.0</td>\n",
              "      <td>3.65</td>\n",
              "      <td>22.07</td>\n",
              "      <td>-22.64</td>\n",
              "      <td>1.59</td>\n",
              "      <td>3.55</td>\n",
              "      <td>placeholder</td>\n",
              "      <td>2.33</td>\n",
              "      <td>-124.60</td>\n",
              "      <td>-5.98</td>\n",
              "      <td>118.86</td>\n",
              "      <td>-1.29</td>\n",
              "      <td>183.96</td>\n",
              "      <td>50.0</td>\n",
              "      <td>6.30</td>\n",
              "      <td>2.30</td>\n",
              "      <td>5.99</td>\n",
              "      <td>NaN</td>\n",
              "      <td>placeholder</td>\n",
              "      <td>S</td>\n",
              "      <td>S</td>\n",
              "      <td>SL</td>\n",
              "      <td>9</td>\n",
              "      <td>0.0</td>\n",
              "      <td>2.019000e+09</td>\n",
              "      <td>0.0</td>\n",
              "      <td>0.0</td>\n",
              "      <td>1.0</td>\n",
              "      <td>2.0</td>\n",
              "      <td>0.0</td>\n",
              "      <td>0.0</td>\n",
              "      <td>0.0</td>\n",
              "    </tr>\n",
              "    <tr>\n",
              "      <th>3</th>\n",
              "      <td>0.49</td>\n",
              "      <td>0.92</td>\n",
              "      <td>85.4</td>\n",
              "      <td>78.5</td>\n",
              "      <td>placeholder</td>\n",
              "      <td>placeholder</td>\n",
              "      <td>24.0</td>\n",
              "      <td>7.2</td>\n",
              "      <td>24.0</td>\n",
              "      <td>-13.77</td>\n",
              "      <td>24.44</td>\n",
              "      <td>-25.74</td>\n",
              "      <td>1.74</td>\n",
              "      <td>3.55</td>\n",
              "      <td>placeholder</td>\n",
              "      <td>7.83</td>\n",
              "      <td>-123.74</td>\n",
              "      <td>-6.78</td>\n",
              "      <td>98.15</td>\n",
              "      <td>-1.56</td>\n",
              "      <td>214.03</td>\n",
              "      <td>50.0</td>\n",
              "      <td>5.85</td>\n",
              "      <td>-8.87</td>\n",
              "      <td>4.14</td>\n",
              "      <td>NaN</td>\n",
              "      <td>placeholder</td>\n",
              "      <td>B</td>\n",
              "      <td>B</td>\n",
              "      <td>CH</td>\n",
              "      <td>10</td>\n",
              "      <td>0.0</td>\n",
              "      <td>2.019000e+09</td>\n",
              "      <td>0.0</td>\n",
              "      <td>1.0</td>\n",
              "      <td>1.0</td>\n",
              "      <td>3.0</td>\n",
              "      <td>0.0</td>\n",
              "      <td>0.0</td>\n",
              "      <td>0.0</td>\n",
              "    </tr>\n",
              "    <tr>\n",
              "      <th>4</th>\n",
              "      <td>-0.13</td>\n",
              "      <td>1.11</td>\n",
              "      <td>84.6</td>\n",
              "      <td>77.6</td>\n",
              "      <td>placeholder</td>\n",
              "      <td>placeholder</td>\n",
              "      <td>26.4</td>\n",
              "      <td>8.4</td>\n",
              "      <td>24.0</td>\n",
              "      <td>-15.99</td>\n",
              "      <td>24.56</td>\n",
              "      <td>-28.36</td>\n",
              "      <td>1.83</td>\n",
              "      <td>3.59</td>\n",
              "      <td>placeholder</td>\n",
              "      <td>6.79</td>\n",
              "      <td>-122.67</td>\n",
              "      <td>-5.73</td>\n",
              "      <td>121.81</td>\n",
              "      <td>-1.57</td>\n",
              "      <td>208.77</td>\n",
              "      <td>50.0</td>\n",
              "      <td>5.89</td>\n",
              "      <td>-10.51</td>\n",
              "      <td>2.51</td>\n",
              "      <td>NaN</td>\n",
              "      <td>placeholder</td>\n",
              "      <td>B</td>\n",
              "      <td>B</td>\n",
              "      <td>CH</td>\n",
              "      <td>11</td>\n",
              "      <td>0.0</td>\n",
              "      <td>2.019000e+09</td>\n",
              "      <td>1.0</td>\n",
              "      <td>1.0</td>\n",
              "      <td>1.0</td>\n",
              "      <td>4.0</td>\n",
              "      <td>0.0</td>\n",
              "      <td>0.0</td>\n",
              "      <td>0.0</td>\n",
              "    </tr>\n",
              "  </tbody>\n",
              "</table>\n",
              "</div>"
            ],
            "text/plain": [
              "     px    pz  start_speed  end_speed  ... pitch_num on_1b  on_2b  on_3b\n",
              "0  0.00  2.15         88.8       80.7  ...       1.0   0.0    0.0    0.0\n",
              "1  0.34  2.31         89.9       81.8  ...       1.0   0.0    0.0    0.0\n",
              "2 -0.05  2.03         85.7       79.6  ...       2.0   0.0    0.0    0.0\n",
              "3  0.49  0.92         85.4       78.5  ...       3.0   0.0    0.0    0.0\n",
              "4 -0.13  1.11         84.6       77.6  ...       4.0   0.0    0.0    0.0\n",
              "\n",
              "[5 rows x 40 columns]"
            ]
          },
          "metadata": {
            "tags": []
          },
          "execution_count": 58
        }
      ]
    },
    {
      "cell_type": "markdown",
      "metadata": {
        "id": "3tAdvZ7IUoIl"
      },
      "source": [
        "### EDA"
      ]
    },
    {
      "cell_type": "code",
      "metadata": {
        "id": "5JhsWzUOUoIm"
      },
      "source": [
        "# keeping only important attribute or least those have meaning defined on the data source\n",
        "keep_columns = ['pitch_type','type','ab_id','pitch_num','vx0','vy0','vz0','ax',\n",
        "                'ay','az','break_angle','break_length','break_y'\n",
        "               ]\n",
        "p19 = p19_master[keep_columns]"
      ],
      "execution_count": null,
      "outputs": []
    },
    {
      "cell_type": "code",
      "metadata": {
        "colab": {
          "base_uri": "https://localhost:8080/"
        },
        "id": "HUulHrrxUoIm",
        "outputId": "3055090f-3952-4d7b-9e76-e93a2f5c47b1"
      },
      "source": [
        "## checking for Nulls\n",
        "p19.info()"
      ],
      "execution_count": null,
      "outputs": [
        {
          "output_type": "stream",
          "text": [
            "<class 'pandas.core.frame.DataFrame'>\n",
            "RangeIndex: 728790 entries, 0 to 728789\n",
            "Data columns (total 13 columns):\n",
            " #   Column        Non-Null Count   Dtype  \n",
            "---  ------        --------------   -----  \n",
            " 0   pitch_type    722161 non-null  object \n",
            " 1   type          728790 non-null  object \n",
            " 2   ab_id         728790 non-null  float64\n",
            " 3   pitch_num     728790 non-null  float64\n",
            " 4   vx0           722161 non-null  float64\n",
            " 5   vy0           722161 non-null  float64\n",
            " 6   vz0           722161 non-null  float64\n",
            " 7   ax            722161 non-null  float64\n",
            " 8   ay            722161 non-null  float64\n",
            " 9   az            722161 non-null  float64\n",
            " 10  break_angle   722161 non-null  float64\n",
            " 11  break_length  722161 non-null  float64\n",
            " 12  break_y       722161 non-null  float64\n",
            "dtypes: float64(11), object(2)\n",
            "memory usage: 72.3+ MB\n"
          ],
          "name": "stdout"
        }
      ]
    },
    {
      "cell_type": "code",
      "metadata": {
        "colab": {
          "base_uri": "https://localhost:8080/"
        },
        "id": "2SyKQWs1UoIm",
        "outputId": "3be6cdc6-462e-43c8-c381-2d5181978638"
      },
      "source": [
        "ab19.info()"
      ],
      "execution_count": null,
      "outputs": [
        {
          "output_type": "stream",
          "text": [
            "<class 'pandas.core.frame.DataFrame'>\n",
            "RangeIndex: 185245 entries, 0 to 185244\n",
            "Data columns (total 11 columns):\n",
            " #   Column      Non-Null Count   Dtype  \n",
            "---  ------      --------------   -----  \n",
            " 0   inning      185245 non-null  float64\n",
            " 1   top         185245 non-null  float64\n",
            " 2   ab_id       185245 non-null  float64\n",
            " 3   g_id        185245 non-null  float64\n",
            " 4   p_score     185245 non-null  float64\n",
            " 5   batter_id   185245 non-null  int64  \n",
            " 6   pitcher_id  185245 non-null  int64  \n",
            " 7   stand       185245 non-null  object \n",
            " 8   p_throws    185245 non-null  object \n",
            " 9   event       185245 non-null  object \n",
            " 10  o           185245 non-null  int64  \n",
            "dtypes: float64(5), int64(3), object(3)\n",
            "memory usage: 15.5+ MB\n"
          ],
          "name": "stdout"
        }
      ]
    },
    {
      "cell_type": "markdown",
      "metadata": {
        "id": "2t-xoD20UoIm"
      },
      "source": [
        "##### Findings from info on pitches and atbat dataset\n",
        "1.) there are NULLs in pitch type those need to be removed.\n",
        "2.) \"ab_id\" which is the key joining two dataset is of type float in pitches are int on atbat.This will be converted to \"int\" from float on pitches dataset."
      ]
    },
    {
      "cell_type": "code",
      "metadata": {
        "id": "B_V0aRN6UoIn"
      },
      "source": [
        "# drop missing pitch type\n",
        "p19 = p19[~p19.pitch_type.isna()]"
      ],
      "execution_count": null,
      "outputs": []
    },
    {
      "cell_type": "code",
      "metadata": {
        "id": "B7KU9AVrUoIn"
      },
      "source": [
        "# converting datatype to more comprehensible and rename column\n",
        "p19['ab_id'] = p19['ab_id'].astype('int') # this can be used to join with atbats\n",
        "ab19['ab_id'] = ab19['ab_id'].astype('int') # this can be used to join with atbats"
      ],
      "execution_count": null,
      "outputs": []
    },
    {
      "cell_type": "markdown",
      "metadata": {
        "id": "AFTBL5a9UoIn"
      },
      "source": [
        "##### Distribution Plot \n",
        "below shows number of pitches is Four-Finger Fast Ball (FF) and then somewhat close to slower balls like Slider(SL),ChangeUp(CH), CurveBall(CU).  Thus dividing the dataset into two categories in Fast-Ball and Not-Fast-Balls will give  failry close to normal distribution."
      ]
    },
    {
      "cell_type": "code",
      "metadata": {
        "colab": {
          "base_uri": "https://localhost:8080/",
          "height": 383
        },
        "id": "7jH_0hUsUoIn",
        "outputId": "c8b5e41e-f0a0-46ef-b051-ccd3aaf7d01d"
      },
      "source": [
        "# YOUR CODE\n",
        "p19.pitch_type.value_counts().plot(kind='bar',figsize=(6,6));"
      ],
      "execution_count": null,
      "outputs": [
        {
          "output_type": "display_data",
          "data": {
            "image/png": "[encoded data removed]",
            "text/plain": [
              "<Figure size 432x432 with 1 Axes>"
            ]
          },
          "metadata": {
            "tags": []
          }
        }
      ]
    },
    {
      "cell_type": "markdown",
      "metadata": {
        "id": "C76YE7x8UoIo"
      },
      "source": [
        "##### Condensing Pitch Type"
      ]
    },
    {
      "cell_type": "code",
      "metadata": {
        "id": "VQ8T5ru7UoIo"
      },
      "source": [
        "# Condense Pitch Type\n",
        "# parsing pitch_type into broad category of 'fastball' and 'off-speed'\n",
        "# classification taken from https://library.fangraphs.com/pitch-type-abbreviations-classifications/\n",
        "\n",
        "fast_ball_pitch_type = ['FA','FF','FT','FC','FS','SI','SF']\n",
        "off_type_pitch_type = ['SL','CH','CB','CU','KC','KN','EP']\n",
        "p19['pitch_type'] = np.where(p19['pitch_type']\\\n",
        "                                     .isin(fast_ball_pitch_type), \n",
        "                                     1, 0\n",
        "                                    )"
      ],
      "execution_count": null,
      "outputs": []
    },
    {
      "cell_type": "code",
      "metadata": {
        "colab": {
          "base_uri": "https://localhost:8080/",
          "height": 374
        },
        "id": "2Xd1l7ZdUoIo",
        "outputId": "86f57320-4eaa-4a34-8e98-ae0c9ed8d512"
      },
      "source": [
        "p19.pitch_type.value_counts().plot(kind='bar',figsize=(6,6));"
      ],
      "execution_count": null,
      "outputs": [
        {
          "output_type": "display_data",
          "data": {
            "image/png": "[encoded data removed]",
            "text/plain": [
              "<Figure size 432x432 with 1 Axes>"
            ]
          },
          "metadata": {
            "tags": []
          }
        }
      ]
    },
    {
      "cell_type": "markdown",
      "metadata": {
        "id": "G8Z3CoovUoIo"
      },
      "source": [
        "Above plot shows distribution of Fast-Ball/Not-Fast-Ball and it is not very imbalanced so there should not be overfitting in the model."
      ]
    },
    {
      "cell_type": "code",
      "metadata": {
        "id": "xpGZ0_gGUoIo"
      },
      "source": [
        "# joining pitcher and at-bats dataset to get pithcer id\n",
        "# this is needed to make groups to calculate previous itch metric of the pitcher\n",
        "pab = pd.merge(p19,ab19,on=\"ab_id\")"
      ],
      "execution_count": null,
      "outputs": []
    },
    {
      "cell_type": "code",
      "metadata": {
        "id": "G_mAN5a8UoIo"
      },
      "source": [
        "# removing id colums after join and keeping only meaninful attributes\n",
        "cols_to_keep = ['pitch_type','type','ab_id','pitcher_id','pitch_num','vx0','vy0','vz0','ax',\n",
        "                'ay','az','break_angle','break_length','break_y','stand','p_throws']\n",
        "pab = pab[cols_to_keep]"
      ],
      "execution_count": null,
      "outputs": []
    },
    {
      "cell_type": "code",
      "metadata": {
        "id": "DpYGpYwuUoIp"
      },
      "source": [
        "# transforming stand and p_throw as new variable : batter_pitcher_same_side\n",
        "pab['batter_pitcher_same_side'] = np.where(pab['stand']==pab['p_throws'],1,0)"
      ],
      "execution_count": null,
      "outputs": []
    },
    {
      "cell_type": "code",
      "metadata": {
        "id": "R9pU7rTAUoIp"
      },
      "source": [
        "#dropping p_throws and stand\n",
        "pab.drop(['p_throws','stand'],axis=1,inplace=True)"
      ],
      "execution_count": null,
      "outputs": []
    },
    {
      "cell_type": "markdown",
      "metadata": {
        "id": "HZ5j6VW7UoIp"
      },
      "source": [
        "##### creating dummy variable for outcome of pitch"
      ]
    },
    {
      "cell_type": "code",
      "metadata": {
        "id": "gqaFXl4BUoIp"
      },
      "source": [
        "# adding meaningful name to type and making dummies\n",
        "pab['type'] = pab.type.map({\"B\":\"ball\",\"S\":\"strike\",\"X\":\"in-play\",\"C\":\"catch\"})"
      ],
      "execution_count": null,
      "outputs": []
    },
    {
      "cell_type": "code",
      "metadata": {
        "id": "jDUyzjyXUoIq"
      },
      "source": [
        "# creating dummy values for type\n",
        "pab = pd.concat([pab.drop('type', axis=1), pd.get_dummies(pab['type'])], axis=1)"
      ],
      "execution_count": null,
      "outputs": []
    },
    {
      "cell_type": "markdown",
      "metadata": {
        "id": "eymMXiq4UoIq"
      },
      "source": [
        "##### Previous Metrics Calculation"
      ]
    },
    {
      "cell_type": "code",
      "metadata": {
        "id": "dWqDpAJsUoIq"
      },
      "source": [
        "## adding previous attributes\n",
        "previous_to_be_calculated = ['pitch_type','vx0','vy0','vz0','ax',\n",
        "                             'ay','az','break_angle','break_length',\n",
        "                             'break_y','ball',\n",
        "                             'catch','in-play','strike'\n",
        "               ]\n",
        "for col in previous_to_be_calculated:\n",
        "    previous_col_name = \"previous_\"+col\n",
        "    pab[previous_col_name] = pab.sort_values(by=['pitch_num'], ascending=True).groupby(['pitcher_id','ab_id'])[col].shift(1)"
      ],
      "execution_count": null,
      "outputs": []
    },
    {
      "cell_type": "code",
      "metadata": {
        "id": "ywC-PjijUoIq"
      },
      "source": [
        "## replacing NaN on previous metrics to UN\n",
        "pab['previous_pitch_type'].fillna('UN', inplace=True)"
      ],
      "execution_count": null,
      "outputs": []
    },
    {
      "cell_type": "markdown",
      "metadata": {
        "id": "F6suBbT_UoIr"
      },
      "source": [
        "##### Dropping NULLs  \n",
        "After adding previous features,there are hearty volume of NULLs for case where a pithcer has only thrown one pitch to a particular batter. Since our model focussed on predicting based on past events; these records are safe to drop."
      ]
    },
    {
      "cell_type": "code",
      "metadata": {
        "colab": {
          "base_uri": "https://localhost:8080/"
        },
        "id": "23vYyZZLUoIr",
        "outputId": "70ec6478-f0c0-4f6d-b53b-576c0e4bc5e8"
      },
      "source": [
        "print(\"Dataset shape before drop of NaN/NULL previous metric:\",pab.shape)"
      ],
      "execution_count": null,
      "outputs": [
        {
          "output_type": "stream",
          "text": [
            "Dataset shape before drop of NaN/NULL previous metric: (722161, 32)\n"
          ],
          "name": "stdout"
        }
      ]
    },
    {
      "cell_type": "code",
      "metadata": {
        "colab": {
          "base_uri": "https://localhost:8080/"
        },
        "id": "D44pASRFUoIr",
        "outputId": "3891e271-ff2c-43b0-bd49-535835d4a4cb"
      },
      "source": [
        "## dropping all rows with NA\n",
        "pab.dropna(inplace=True)\n",
        "print(\"Dataset shape after drop of NaN/NULL previous metric:\",pab.shape)"
      ],
      "execution_count": null,
      "outputs": [
        {
          "output_type": "stream",
          "text": [
            "Dataset shape after drop of NaN/NULL previous metric: (538485, 32)\n"
          ],
          "name": "stdout"
        }
      ]
    },
    {
      "cell_type": "code",
      "metadata": {
        "id": "5CFKF5-5UoIr"
      },
      "source": [
        "## taking previous set and building model\n",
        "pab_previous = pab[['pitch_type','previous_pitch_type', 'previous_vx0', 'previous_vy0', 'previous_vz0',\n",
        "       'previous_ax', 'previous_ay', 'previous_az', 'previous_break_angle',\n",
        "       'previous_break_length', 'previous_break_y', 'previous_ball',\n",
        "       'previous_catch', 'previous_in-play', 'previous_strike']]"
      ],
      "execution_count": null,
      "outputs": []
    },
    {
      "cell_type": "code",
      "metadata": {
        "colab": {
          "base_uri": "https://localhost:8080/",
          "height": 354
        },
        "id": "zIL2goJNUoIr",
        "outputId": "a561305f-b5f4-49a5-896f-9f07adfaa023"
      },
      "source": [
        "sns.set(rc={'figure.figsize':(6.7,5.27)}) # sets size of the figure\n",
        "sns.countplot(x=\"previous_pitch_type\",hue=\"pitch_type\",data=pab)\n",
        "plt.show()"
      ],
      "execution_count": null,
      "outputs": [
        {
          "output_type": "display_data",
          "data": {
            "image/png": "[encoded data removed]",
            "text/plain": [
              "<Figure size 482.4x379.44 with 1 Axes>"
            ]
          },
          "metadata": {
            "tags": []
          }
        }
      ]
    },
    {
      "cell_type": "markdown",
      "metadata": {
        "id": "IRjG05O_UoIs"
      },
      "source": [
        "Above plot shows relationship between pitch type and previous pitch type. This shows most of the time a fast pitch is followed by some type of fast pitch and a slow pitch also more often that not is followed by a fast ball."
      ]
    },
    {
      "cell_type": "markdown",
      "metadata": {
        "id": "qVzoraS-UoIs"
      },
      "source": [
        "### Feature Selection"
      ]
    },
    {
      "cell_type": "code",
      "metadata": {
        "id": "DNX_JnQBUoIs"
      },
      "source": [
        "# making Predictor-Response set\n",
        "y_NP=pab_previous.pitch_type\n",
        "X_NP=pab_previous.drop('pitch_type',axis=1)"
      ],
      "execution_count": null,
      "outputs": []
    },
    {
      "cell_type": "code",
      "metadata": {
        "id": "P0EhUS9YUoIs"
      },
      "source": [
        "# train test split\n",
        "X_NP_train, X_NP_test, y_NP_train, y_NP_test = train_test_split(X_NP, y_NP, test_size=0.10, random_state=555)\n",
        "X_NP_train, X_NP_val, y_NP_train, y_NP_val = train_test_split(X_NP_train, y_NP_train, test_size=0.30, random_state=555)"
      ],
      "execution_count": null,
      "outputs": []
    },
    {
      "cell_type": "markdown",
      "metadata": {
        "id": "kSFlDRzVUoIs"
      },
      "source": [
        "#### Random Forest : Feature Selection  \n",
        "RF provides feature importances based on mean decrease in impurity that is used to do feature selection."
      ]
    },
    {
      "cell_type": "code",
      "metadata": {
        "colab": {
          "base_uri": "https://localhost:8080/"
        },
        "id": "T1cUuF8zUoIs",
        "outputId": "27311003-aac7-41a8-b168-fdc9359c281a"
      },
      "source": [
        "# fitting random forest to find best features\n",
        "from sklearn.ensemble import RandomForestClassifier\n",
        "forest_NP = RandomForestClassifier(random_state=0)\n",
        "forest_NP.fit(X_NP_train, y_NP_train)"
      ],
      "execution_count": null,
      "outputs": [
        {
          "output_type": "execute_result",
          "data": {
            "text/plain": [
              "RandomForestClassifier(bootstrap=True, ccp_alpha=0.0, class_weight=None,\n",
              "                       criterion='gini', max_depth=None, max_features='auto',\n",
              "                       max_leaf_nodes=None, max_samples=None,\n",
              "                       min_impurity_decrease=0.0, min_impurity_split=None,\n",
              "                       min_samples_leaf=1, min_samples_split=2,\n",
              "                       min_weight_fraction_leaf=0.0, n_estimators=100,\n",
              "                       n_jobs=None, oob_score=False, random_state=0, verbose=0,\n",
              "                       warm_start=False)"
            ]
          },
          "metadata": {
            "tags": []
          },
          "execution_count": 81
        }
      ]
    },
    {
      "cell_type": "code",
      "metadata": {
        "id": "4zzn8irCUoIt"
      },
      "source": [
        "importances = forest_NP.feature_importances_ # importances measures in gini index\n",
        "std = np.std([tree.feature_importances_ for tree in forest_NP.estimators_], axis=0)"
      ],
      "execution_count": null,
      "outputs": []
    },
    {
      "cell_type": "code",
      "metadata": {
        "colab": {
          "base_uri": "https://localhost:8080/",
          "height": 437
        },
        "id": "y2_fEiETUoIt",
        "outputId": "564f929b-56c6-4af7-c80a-ceb93c80816d"
      },
      "source": [
        "# plotting to visualize most informational features based on Mean Decrease in Impurity\n",
        "feature_names = X_NP_train.columns.tolist()\n",
        "forest_importances = pd.Series(importances, index=feature_names)\n",
        "fig = plt.figure()\n",
        "ax = fig.add_subplot(111)\n",
        "forest_importances.plot.bar(yerr=std, ax=ax,figsize=(6,6))\n",
        "ax.set_title(\"Feature importances using Gini-Index\")\n",
        "ax.set_ylabel(\"Gini-Index\")\n",
        "fig.tight_layout()"
      ],
      "execution_count": null,
      "outputs": [
        {
          "output_type": "display_data",
          "data": {
            "image/png": "[encoded data removed]",
            "text/plain": [
              "<Figure size 432x432 with 1 Axes>"
            ]
          },
          "metadata": {
            "tags": []
          }
        }
      ]
    },
    {
      "cell_type": "markdown",
      "metadata": {
        "id": "5NRbAWNEUoIt"
      },
      "source": [
        "Above plot shows high correlation with previous velocity and acceleration attributes with pitch_type. Previous Break angle turns out important as well followed by previous ball and catch."
      ]
    },
    {
      "cell_type": "code",
      "metadata": {
        "id": "Xh113n1MUoIt"
      },
      "source": [
        "# using above start_speed,end_speed,vy0,ay,az,break_length,pfx_z are the most informative ones\n",
        "important_columns = ['previous_pitch_type', 'previous_vy0',\n",
        "       'previous_ay', 'previous_break_angle',\n",
        "       'previous_break_length', 'previous_ball',\n",
        "       'previous_catch', 'previous_strike']"
      ],
      "execution_count": null,
      "outputs": []
    },
    {
      "cell_type": "code",
      "metadata": {
        "id": "59iFohfkUoIt"
      },
      "source": [
        "## building dataset with important columns\n",
        "X_NP_train = X_NP_train[important_columns]\n",
        "X_NP_test = X_NP_test[important_columns]\n",
        "X_NP_val = X_NP_val[important_columns]"
      ],
      "execution_count": null,
      "outputs": []
    },
    {
      "cell_type": "markdown",
      "metadata": {
        "id": "cpFLwMZBUoIt"
      },
      "source": [
        "### Model Building : Logistic Regression"
      ]
    },
    {
      "cell_type": "code",
      "metadata": {
        "colab": {
          "base_uri": "https://localhost:8080/"
        },
        "id": "BVZevJFOUoIt",
        "outputId": "28bc2d62-450a-4332-ee4d-0708dd0eae02"
      },
      "source": [
        "logi_NP = LogisticRegression(max_iter = 10000, solver='lbfgs', penalty='l2', C=0.1)\n",
        "logi_NP.fit(X_NP_train,y_NP_train)"
      ],
      "execution_count": null,
      "outputs": [
        {
          "output_type": "execute_result",
          "data": {
            "text/plain": [
              "LogisticRegression(C=0.1, class_weight=None, dual=False, fit_intercept=True,\n",
              "                   intercept_scaling=1, l1_ratio=None, max_iter=10000,\n",
              "                   multi_class='auto', n_jobs=None, penalty='l2',\n",
              "                   random_state=None, solver='lbfgs', tol=0.0001, verbose=0,\n",
              "                   warm_start=False)"
            ]
          },
          "metadata": {
            "tags": []
          },
          "execution_count": 86
        }
      ]
    },
    {
      "cell_type": "markdown",
      "metadata": {
        "id": "Q_v4A4l4UoIu"
      },
      "source": [
        "##### Predict/CM-CF Matrix: Train"
      ]
    },
    {
      "cell_type": "code",
      "metadata": {
        "colab": {
          "base_uri": "https://localhost:8080/",
          "height": 524
        },
        "id": "Z2a7wLXEUoIu",
        "outputId": "a8e4cc3b-08d3-4549-e856-2f96c2209baa"
      },
      "source": [
        "pred_train_NP = logi_NP.predict(X_NP_train)\n",
        "target_name=[1,0]\n",
        "plot_confusion_matrix(logi_NP, X_NP_train,y_NP_train,normalize=\"true\")\n",
        "plt.grid(False)\n",
        "print(\"Classification Report of Training Set\")\n",
        "print(classification_report(y_NP_train, pred_train_NP))"
      ],
      "execution_count": null,
      "outputs": [
        {
          "output_type": "stream",
          "text": [
            "Classification Report of Training Set\n",
            "              precision    recall  f1-score   support\n",
            "\n",
            "           0       0.46      0.05      0.09    138434\n",
            "           1       0.59      0.96      0.73    200811\n",
            "\n",
            "    accuracy                           0.59    339245\n",
            "   macro avg       0.53      0.51      0.41    339245\n",
            "weighted avg       0.54      0.59      0.47    339245\n",
            "\n"
          ],
          "name": "stdout"
        },
        {
          "output_type": "display_data",
          "data": {
            "image/png": "[encoded data removed]",
            "text/plain": [
              "<Figure size 482.4x379.44 with 2 Axes>"
            ]
          },
          "metadata": {
            "tags": []
          }
        }
      ]
    },
    {
      "cell_type": "markdown",
      "metadata": {
        "id": "z2b63O35UoIu"
      },
      "source": [
        "##### Predict/CM-CF Matrix: Validation¶"
      ]
    },
    {
      "cell_type": "code",
      "metadata": {
        "colab": {
          "base_uri": "https://localhost:8080/",
          "height": 524
        },
        "id": "YrA8jnQOUoIu",
        "outputId": "cfd12375-02a8-4831-87a4-c7ae53c666b6"
      },
      "source": [
        "pred_val_NP = logi_NP.predict(X_NP_val)\n",
        "target_name=[1,0]\n",
        "plot_confusion_matrix(logi_NP, X_NP_val,y_NP_val,normalize=\"true\")\n",
        "plt.grid(False)\n",
        "print(\"Classification Report of Validation Set\")\n",
        "print(classification_report(y_NP_val, pred_val_NP))"
      ],
      "execution_count": null,
      "outputs": [
        {
          "output_type": "stream",
          "text": [
            "Classification Report of Validation Set\n",
            "              precision    recall  f1-score   support\n",
            "\n",
            "           0       0.48      0.05      0.10     59531\n",
            "           1       0.59      0.96      0.73     85860\n",
            "\n",
            "    accuracy                           0.59    145391\n",
            "   macro avg       0.54      0.51      0.41    145391\n",
            "weighted avg       0.55      0.59      0.47    145391\n",
            "\n"
          ],
          "name": "stdout"
        },
        {
          "output_type": "display_data",
          "data": {
            "image/png": "[encoded data removed]",
            "text/plain": [
              "<Figure size 482.4x379.44 with 2 Axes>"
            ]
          },
          "metadata": {
            "tags": []
          }
        }
      ]
    },
    {
      "cell_type": "markdown",
      "metadata": {
        "id": "Bz0ex5GGUoIu"
      },
      "source": [
        "#### Analysis  \n",
        "Calssification Report shows that Logistic regression is not very good in identifying pitch_type class:1 i.e. Fast Ball however since most of the pitches are fast ball; a good model should be able to identify pitch type class : 0 i.e. Off-speed. This could be because of imbalanced data. To overcome the imbalance,we can try using *class_weight* hyper-paramter by assigning more weight to class 0 compared to class 1in logistic regression and test if it makes any difference. Below is implementation of same."
      ]
    },
    {
      "cell_type": "code",
      "metadata": {
        "id": "-SGDS_kZzQGN"
      },
      "source": [
        ""
      ],
      "execution_count": null,
      "outputs": []
    },
    {
      "cell_type": "markdown",
      "metadata": {
        "id": "KbeuZ5U1AKrV"
      },
      "source": [
        "#### Hyper-Parameter Tuning"
      ]
    },
    {
      "cell_type": "code",
      "metadata": {
        "id": "xiASuIUHuiiI"
      },
      "source": [
        "w = [{0:1000,1:100},{0:1000,1:10}, {0:100,1:1.0}, {0:10,1:1.0} ] # giving set of hyper param with more weight to class 0.\n",
        "hyperparam_grid = {\"class_weight\": w }"
      ],
      "execution_count": null,
      "outputs": []
    },
    {
      "cell_type": "code",
      "metadata": {
        "colab": {
          "base_uri": "https://localhost:8080/"
        },
        "id": "veMU-ajuuskm",
        "outputId": "e201d65a-322c-4bb3-9719-e72f0f5444b9"
      },
      "source": [
        "from sklearn.model_selection import GridSearchCV\n",
        "logi_NP = LogisticRegression(max_iter = 10000, solver='lbfgs', penalty='l2', C=0.1)\n",
        "# define evaluation procedure\n",
        "logi_grid = GridSearchCV(logi_NP,hyperparam_grid, cv=5,n_jobs=-1, refit=True)\n",
        "logi_grid.fit(X_NP_train,y_NP_train)\n",
        "print(f'Best score: {logi_grid.best_score_} with param: {logi_grid.best_params_}')"
      ],
      "execution_count": null,
      "outputs": [
        {
          "output_type": "stream",
          "text": [
            "Best score: 0.40806496779613555 with param: {'class_weight': {0: 1000, 1: 100}}\n"
          ],
          "name": "stdout"
        }
      ]
    },
    {
      "cell_type": "code",
      "metadata": {
        "id": "QdiS168OvBxf"
      },
      "source": [
        "logi_NP = LogisticRegression(max_iter = 10000, solver='lbfgs',penalty='l2', C=0.1,class_weight=logi_grid.best_params_['class_weight'])\n"
      ],
      "execution_count": null,
      "outputs": []
    },
    {
      "cell_type": "code",
      "metadata": {
        "colab": {
          "base_uri": "https://localhost:8080/"
        },
        "id": "hTJR4MCS54GO",
        "outputId": "f2a8f662-a99a-4a20-831c-b5f30c1efdf5"
      },
      "source": [
        "logi_NP.fit(X_NP_train,y_NP_train)"
      ],
      "execution_count": null,
      "outputs": [
        {
          "output_type": "execute_result",
          "data": {
            "text/plain": [
              "LogisticRegression(C=0.1, class_weight={0: 1000, 1: 100}, dual=False,\n",
              "                   fit_intercept=True, intercept_scaling=1, l1_ratio=None,\n",
              "                   max_iter=10000, multi_class='auto', n_jobs=None,\n",
              "                   penalty='l2', random_state=None, solver='lbfgs', tol=0.0001,\n",
              "                   verbose=0, warm_start=False)"
            ]
          },
          "metadata": {
            "tags": []
          },
          "execution_count": 92
        }
      ]
    },
    {
      "cell_type": "code",
      "metadata": {
        "colab": {
          "base_uri": "https://localhost:8080/",
          "height": 582
        },
        "id": "j4XOBqwK57js",
        "outputId": "f795e341-e85c-4c4f-c698-653619ccd64e"
      },
      "source": [
        "pred_train_NP = logi_NP.predict(X_NP_train)\n",
        "target_name=[1,0]\n",
        "plot_confusion_matrix(logi_NP, X_NP_train,y_NP_train,normalize=\"true\")\n",
        "plt.grid(False)\n",
        "print(\"Classification Report of Training Set\")\n",
        "print(classification_report(y_NP_train, pred_train_NP))"
      ],
      "execution_count": null,
      "outputs": [
        {
          "output_type": "stream",
          "text": [
            "Classification Report of Training Set\n"
          ],
          "name": "stdout"
        },
        {
          "output_type": "stream",
          "text": [
            "/usr/local/lib/python3.7/dist-packages/sklearn/metrics/_classification.py:1272: UndefinedMetricWarning: Precision and F-score are ill-defined and being set to 0.0 in labels with no predicted samples. Use `zero_division` parameter to control this behavior.\n",
            "  _warn_prf(average, modifier, msg_start, len(result))\n"
          ],
          "name": "stderr"
        },
        {
          "output_type": "stream",
          "text": [
            "              precision    recall  f1-score   support\n",
            "\n",
            "           0       0.41      1.00      0.58    138434\n",
            "           1       0.00      0.00      0.00    200811\n",
            "\n",
            "    accuracy                           0.41    339245\n",
            "   macro avg       0.20      0.50      0.29    339245\n",
            "weighted avg       0.17      0.41      0.24    339245\n",
            "\n"
          ],
          "name": "stdout"
        },
        {
          "output_type": "display_data",
          "data": {
            "image/png": "[encoded data removed]",
            "text/plain": [
              "<Figure size 482.4x379.44 with 2 Axes>"
            ]
          },
          "metadata": {
            "tags": []
          }
        }
      ]
    },
    {
      "cell_type": "markdown",
      "metadata": {
        "id": "emGrNKVRBpgR"
      },
      "source": [
        "#### Analysis\n",
        "best score of class weight Grid Search above is making model worse by only predicting class 0 now since it was given more weight. The approach to do inverse class weight is discarded."
      ]
    },
    {
      "cell_type": "markdown",
      "metadata": {
        "id": "X87QiHpYT-RC"
      },
      "source": [
        "### Model Building : Random Forest"
      ]
    },
    {
      "cell_type": "markdown",
      "metadata": {
        "id": "6j3JH9ZGVGEQ"
      },
      "source": [
        "As logistic regression in default and also hyper parametrized did not work; moving onto running a Random Forest(RF) classification. RF algorithms are better in predicting imbalanced data since "
      ]
    },
    {
      "cell_type": "code",
      "metadata": {
        "id": "OBWX6sTB6FHc"
      },
      "source": [
        "from sklearn.ensemble import RandomForestClassifier\n",
        "\n",
        "# train model\n",
        "rfc = RandomForestClassifier(n_estimators=10).fit(X_NP_train, y_NP_train)"
      ],
      "execution_count": null,
      "outputs": []
    },
    {
      "cell_type": "code",
      "metadata": {
        "id": "05qmOKqD8MHk"
      },
      "source": [
        "# predict on val set\n",
        "rfc_val_pred = rfc.predict(X_NP_val)\n"
      ],
      "execution_count": null,
      "outputs": []
    },
    {
      "cell_type": "code",
      "metadata": {
        "colab": {
          "base_uri": "https://localhost:8080/"
        },
        "id": "b2KHloSg8cSm",
        "outputId": "1a9448aa-22be-4e2e-e715-aaa816d49d62"
      },
      "source": [
        "target_name=[1,0]\n",
        "# plot_confusion_matrix(rfc, X_NP_val,y_NP_val)\n",
        "# plt.grid(False)\n",
        "print(\"Classification Report of Validation Set\")\n",
        "print(classification_report(y_NP_val, rfc_val_pred))"
      ],
      "execution_count": null,
      "outputs": [
        {
          "output_type": "stream",
          "text": [
            "Classification Report of Validation Set\n",
            "              precision    recall  f1-score   support\n",
            "\n",
            "           0       0.44      0.44      0.44     59531\n",
            "           1       0.61      0.60      0.61     85860\n",
            "\n",
            "    accuracy                           0.54    145391\n",
            "   macro avg       0.52      0.52      0.52    145391\n",
            "weighted avg       0.54      0.54      0.54    145391\n",
            "\n"
          ],
          "name": "stdout"
        }
      ]
    },
    {
      "cell_type": "markdown",
      "metadata": {
        "id": "lmeVOQDdWm4W"
      },
      "source": [
        "#### Analysis\n",
        " RF in default straight away shows improvement in predicting minority class when we compare recall to Logistic Regression ( RF : 0.45 wherein Logistic REgression was 0.05).Accuracy has not changed and is in the same range as Logistic Regression so RF model seems to perform better here."
      ]
    },
    {
      "cell_type": "markdown",
      "metadata": {
        "id": "K-hVCkIwXqpG"
      },
      "source": [
        "#### Hyper-Parameter Tuning"
      ]
    },
    {
      "cell_type": "code",
      "metadata": {
        "id": "segbDDRX8mOm",
        "colab": {
          "base_uri": "https://localhost:8080/"
        },
        "outputId": "aa4efe27-4c89-459f-cc56-d7368198f121"
      },
      "source": [
        "# implementing Weighted Random Forest\n",
        "rfc_grid = GridSearchCV(RandomForestClassifier(n_estimators=10),hyperparam_grid, cv=5,n_jobs=-1, refit=True)\n",
        "rfc_grid.fit(X_NP_train,y_NP_train)\n",
        "print(f'Best score: {rfc_grid.best_score_} with param: {rfc_grid.best_params_}')"
      ],
      "execution_count": null,
      "outputs": [
        {
          "output_type": "stream",
          "text": [
            "Best score: 0.5417618535276865 with param: {'class_weight': {0: 100, 1: 1.0}}\n"
          ],
          "name": "stdout"
        }
      ]
    },
    {
      "cell_type": "code",
      "metadata": {
        "id": "QMBurTCYYRUU"
      },
      "source": [
        "# using best score in RF\n",
        "rfc = RandomForestClassifier(n_estimators=10,class_weight=rfc_grid.best_params_['class_weight'])"
      ],
      "execution_count": null,
      "outputs": []
    },
    {
      "cell_type": "code",
      "metadata": {
        "colab": {
          "base_uri": "https://localhost:8080/"
        },
        "id": "OcUE-CghZ4R1",
        "outputId": "99676906-7396-453d-ecdf-3589ab8941a6"
      },
      "source": [
        "rfc.fit(X_NP_train, y_NP_train)"
      ],
      "execution_count": null,
      "outputs": [
        {
          "output_type": "execute_result",
          "data": {
            "text/plain": [
              "RandomForestClassifier(bootstrap=True, ccp_alpha=0.0,\n",
              "                       class_weight={0: 100, 1: 1.0}, criterion='gini',\n",
              "                       max_depth=None, max_features='auto', max_leaf_nodes=None,\n",
              "                       max_samples=None, min_impurity_decrease=0.0,\n",
              "                       min_impurity_split=None, min_samples_leaf=1,\n",
              "                       min_samples_split=2, min_weight_fraction_leaf=0.0,\n",
              "                       n_estimators=10, n_jobs=None, oob_score=False,\n",
              "                       random_state=None, verbose=0, warm_start=False)"
            ]
          },
          "metadata": {
            "tags": []
          },
          "execution_count": 99
        }
      ]
    },
    {
      "cell_type": "code",
      "metadata": {
        "id": "qZSJ-cr_Z_p1"
      },
      "source": [
        "# predict on val set\n",
        "rfc_val_pred = rfc.predict(X_NP_val)"
      ],
      "execution_count": null,
      "outputs": []
    },
    {
      "cell_type": "code",
      "metadata": {
        "colab": {
          "base_uri": "https://localhost:8080/"
        },
        "id": "vf_sJm5yaFUJ",
        "outputId": "d63309b6-2eec-4bae-8836-0d40c15025c0"
      },
      "source": [
        "target_name=[1,0]\n",
        "# plot_confusion_matrix(rfc, X_NP_val,y_NP_val)\n",
        "# plt.grid(False)\n",
        "print(\"Classification Report of Validation Set\")\n",
        "print(classification_report(y_NP_val, rfc_val_pred))"
      ],
      "execution_count": null,
      "outputs": [
        {
          "output_type": "stream",
          "text": [
            "Classification Report of Validation Set\n",
            "              precision    recall  f1-score   support\n",
            "\n",
            "           0       0.44      0.41      0.42     59531\n",
            "           1       0.61      0.64      0.62     85860\n",
            "\n",
            "    accuracy                           0.54    145391\n",
            "   macro avg       0.52      0.52      0.52    145391\n",
            "weighted avg       0.54      0.54      0.54    145391\n",
            "\n"
          ],
          "name": "stdout"
        }
      ]
    },
    {
      "cell_type": "markdown",
      "metadata": {
        "id": "qUH5rb3BaUQQ"
      },
      "source": [
        "#### Analysis\n",
        "Not much change with weighted RF compared to default fitted RF model in minority class.However recall to identify class 1 increased from 0.60 in default balanced weight RF model to 0.64 in weighted RF model. using weighted RF model will be better here since data imbalance is facotred into the fit of the model."
      ]
    },
    {
      "cell_type": "markdown",
      "metadata": {
        "id": "cLF8N86ha_KS"
      },
      "source": [
        "### Final Model"
      ]
    },
    {
      "cell_type": "markdown",
      "metadata": {
        "id": "cSzpvdDhbGa3"
      },
      "source": [
        "From all the model fitted above, Random Forest with weighted class is the best. Predicting using test data and evulating classification matrix of test data."
      ]
    },
    {
      "cell_type": "code",
      "metadata": {
        "id": "QMIVChGEaJJL"
      },
      "source": [
        "rfc_test_pred = rfc.predict(X_NP_test)"
      ],
      "execution_count": null,
      "outputs": []
    },
    {
      "cell_type": "code",
      "metadata": {
        "colab": {
          "base_uri": "https://localhost:8080/"
        },
        "id": "iVjcDFNobabl",
        "outputId": "c9e5d1ce-fa77-43e6-f189-a9bf2f9d3a62"
      },
      "source": [
        "target_name=[1,0]\n",
        "# plot_confusion_matrix(rfc, X_NP_val,y_NP_val)\n",
        "# plt.grid(False)\n",
        "print(\"Classification Report of Test Set\")\n",
        "print(classification_report(y_NP_test, rfc_test_pred))"
      ],
      "execution_count": null,
      "outputs": [
        {
          "output_type": "stream",
          "text": [
            "Classification Report of Test Set\n",
            "              precision    recall  f1-score   support\n",
            "\n",
            "           0       0.44      0.41      0.43     21987\n",
            "           1       0.61      0.64      0.62     31862\n",
            "\n",
            "    accuracy                           0.55     53849\n",
            "   macro avg       0.53      0.53      0.53     53849\n",
            "weighted avg       0.54      0.55      0.54     53849\n",
            "\n"
          ],
          "name": "stdout"
        }
      ]
    },
    {
      "cell_type": "markdown",
      "metadata": {
        "id": "oznxsKFNbmBR"
      },
      "source": [
        "#### Analysis\n",
        "\n",
        "Test set gives almost same recall/precision/accuracy as compared to validaiton set. There is 0.01 point increase in recall for minority class. Accuracy being the same as validation shows there is no overfitting."
      ]
    },
    {
      "cell_type": "code",
      "metadata": {
        "id": "wW3YiX6-bfyx"
      },
      "source": [
        ""
      ],
      "execution_count": null,
      "outputs": []
    }
  ]
}